{
  "nbformat": 4,
  "nbformat_minor": 0,
  "metadata": {
    "colab": {
      "name": "Tugas12.ipynb",
      "provenance": [],
      "collapsed_sections": [],
      "mount_file_id": "1wUdhs-R3_FTd23ucDoScPzI9WHET1GHz",
      "authorship_tag": "ABX9TyNa0YF05neiBQRPXdHlEb8y",
      "include_colab_link": true
    },
    "kernelspec": {
      "name": "python3",
      "display_name": "Python 3"
    }
  },
  "cells": [
    {
      "cell_type": "markdown",
      "metadata": {
        "id": "view-in-github",
        "colab_type": "text"
      },
      "source": [
        "<a href=\"https://colab.research.google.com/github/akmalsbq/python/blob/main/Tugas12.ipynb\" target=\"_parent\"><img src=\"https://colab.research.google.com/assets/colab-badge.svg\" alt=\"Open In Colab\"/></a>"
      ]
    },
    {
      "cell_type": "code",
      "metadata": {
        "id": "YY_x7xb2BVlD"
      },
      "source": [
        "# Name  : Akmal Sabiq Muzakki\r\n",
        "# NIM   : 1101208145\r\n",
        "# Class : TTX 44-01"
      ],
      "execution_count": null,
      "outputs": []
    },
    {
      "cell_type": "code",
      "metadata": {
        "id": "6R378ZgBBnIG"
      },
      "source": [
        "import numpy as np"
      ],
      "execution_count": null,
      "outputs": []
    },
    {
      "cell_type": "code",
      "metadata": {
        "id": "03yVRhfIBo9i"
      },
      "source": [
        "NtL = lambda x: 10*np.log10(x)"
      ],
      "execution_count": null,
      "outputs": []
    },
    {
      "cell_type": "code",
      "metadata": {
        "colab": {
          "base_uri": "https://localhost:8080/"
        },
        "id": "_CAreZe8Bqmi",
        "outputId": "a5b014e5-4528-49ee-b92a-fc0dc824afe1"
      },
      "source": [
        "z=NtL(100)\r\n",
        "print(z)"
      ],
      "execution_count": null,
      "outputs": [
        {
          "output_type": "stream",
          "text": [
            "20.0\n"
          ],
          "name": "stdout"
        }
      ]
    },
    {
      "cell_type": "code",
      "metadata": {
        "id": "QYLBFSFUBsMQ"
      },
      "source": [
        "LtN = lambda x: 10**(x/10)"
      ],
      "execution_count": null,
      "outputs": []
    },
    {
      "cell_type": "code",
      "metadata": {
        "colab": {
          "base_uri": "https://localhost:8080/"
        },
        "id": "P8N3SpMtBww3",
        "outputId": "c3b3d118-4cc0-4855-d780-194b08495181"
      },
      "source": [
        "y=LtN(100)\r\n",
        "print(y)"
      ],
      "execution_count": null,
      "outputs": [
        {
          "output_type": "stream",
          "text": [
            "10000000000.0\n"
          ],
          "name": "stdout"
        }
      ]
    },
    {
      "cell_type": "code",
      "metadata": {
        "colab": {
          "base_uri": "https://localhost:8080/"
        },
        "id": "gmKIDw5pByTl",
        "outputId": "77519ecf-3141-411a-e80f-fa700c8170ef"
      },
      "source": [
        "# Daerah Suburban\r\n",
        "Lp = 69.55  + (26.16*np.log10(950)) - (13.83*np.log10(95)) - ((((1.1*np.log10(950))-0.7)*25) - ((1.56*np.log10(950))-0.8)) + ((44.9-(6.55*np.log10(25)))*np.log10(10)) + (-10.0852)\r\n",
        "print(Lp)"
      ],
      "execution_count": null,
      "outputs": [
        {
          "output_type": "stream",
          "text": [
            "85.21147467521693\n"
          ],
          "name": "stdout"
        }
      ]
    },
    {
      "cell_type": "code",
      "metadata": {
        "colab": {
          "base_uri": "https://localhost:8080/"
        },
        "id": "795-FnqvFaYG",
        "outputId": "5cf63944-68ac-4e30-fbcc-646f0772a641"
      },
      "source": [
        "# Daerah Urban\r\n",
        "Lp = 69.55  + (26.16*np.log10(950)) - (13.83*np.log10(95)) - ((((1.1*np.log10(950))-0.7)*25) - ((1.56*np.log10(950))-0.8)) + ((44.9-(6.55*np.log10(25)))*np.log10(10)) + (0)\r\n",
        "print(Lp)"
      ],
      "execution_count": null,
      "outputs": [
        {
          "output_type": "stream",
          "text": [
            "95.29667467521693\n"
          ],
          "name": "stdout"
        }
      ]
    },
    {
      "cell_type": "code",
      "metadata": {
        "colab": {
          "base_uri": "https://localhost:8080/"
        },
        "id": "b71ncTiPFcN0",
        "outputId": "acb89e0e-61f6-45ee-8f20-9d23e4ba8973"
      },
      "source": [
        "# Daerah Open\r\n",
        "Lp = 69.55  + (26.16*np.log10(950)) - (13.83*np.log10(95)) - ((((1.1*np.log10(950))-0.7)*25) - ((1.56*np.log10(950))-0.8)) + ((44.9-(6.55*np.log10(25)))*np.log10(10)) + (-28.7418)\r\n",
        "print(Lp)"
      ],
      "execution_count": null,
      "outputs": [
        {
          "output_type": "stream",
          "text": [
            "66.55487467521694\n"
          ],
          "name": "stdout"
        }
      ]
    },
    {
      "cell_type": "code",
      "metadata": {
        "id": "07DhWm55FeCD"
      },
      "source": [
        "def ploss (d, f, cm, ht, hr):\r\n",
        "  pldb= 69.55 + (26.16*np.log10(f)) - (13.83*np.log10(ht)) - ((((1.1*np.log10(f)) - 0.7) * hr) - ((1.56*np.log10(f)) - 0.8)) + ((44.9 - (6.55*np.log10(ht)))*np.log10(d)) + cm\r\n",
        "  plnum=LtN(-pldb)\r\n",
        "  return pldb,plnum"
      ],
      "execution_count": null,
      "outputs": []
    },
    {
      "cell_type": "code",
      "metadata": {
        "colab": {
          "base_uri": "https://localhost:8080/"
        },
        "id": "07OOtbmHFgYD",
        "outputId": "a132a3c8-deba-4a1b-f6e3-304a764d26b9"
      },
      "source": [
        "# Daerah Suburban\r\n",
        "pathlossdb, pathlossnum = ploss(10, 950, -10.0852, 95, 25)\r\n",
        "print(\"pathloss dalam db =\",pathlossdb,\"dB\")\r\n",
        "print(\"pathloss dalam numerik =\",pathlossnum,\"kali\")"
      ],
      "execution_count": null,
      "outputs": [
        {
          "output_type": "stream",
          "text": [
            "pathloss dalam db = 81.41389211737683 dB\n",
            "pathloss dalam numerik = 7.221223524226068e-09 kali\n"
          ],
          "name": "stdout"
        }
      ]
    },
    {
      "cell_type": "code",
      "metadata": {
        "colab": {
          "base_uri": "https://localhost:8080/"
        },
        "id": "9mz2qePdFi_G",
        "outputId": "3f91a50c-b14e-4f83-e945-961a2008b150"
      },
      "source": [
        "# Daerah Urban\r\n",
        "pathlossdb, pathlossnum = ploss(10, 950, 0, 95, 25)\r\n",
        "print(\"pathloss dalam db =\",pathlossdb,\"dB\")\r\n",
        "print(\"pathloss dalam numerik =\",pathlossnum,\"kali\")"
      ],
      "execution_count": null,
      "outputs": [
        {
          "output_type": "stream",
          "text": [
            "pathloss dalam db = 91.49909211737683 dB\n",
            "pathloss dalam numerik = 7.080937942917115e-10 kali\n"
          ],
          "name": "stdout"
        }
      ]
    },
    {
      "cell_type": "code",
      "metadata": {
        "colab": {
          "base_uri": "https://localhost:8080/"
        },
        "id": "NDUeXnl5Fk8g",
        "outputId": "8d4e6065-70c5-4093-ce01-d884b7aa66b9"
      },
      "source": [
        "# Daerah Open\r\n",
        "pathlossdb, pathlossnum = ploss(10, 950, -28.7418, 95, 25)\r\n",
        "print(\"pathloss dalam db =\",pathlossdb,\"dB\")\r\n",
        "print(\"pathloss dalam numerik =\",pathlossnum,\"kali\")"
      ],
      "execution_count": null,
      "outputs": [
        {
          "output_type": "stream",
          "text": [
            "pathloss dalam db = 62.757292117376835 dB\n",
            "pathloss dalam numerik = 5.299937989227408e-07 kali\n"
          ],
          "name": "stdout"
        }
      ]
    },
    {
      "cell_type": "code",
      "metadata": {
        "id": "Ym6XwAn6FmpN"
      },
      "source": [
        ""
      ],
      "execution_count": null,
      "outputs": []
    }
  ]
}