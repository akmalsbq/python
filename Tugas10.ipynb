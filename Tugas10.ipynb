{
  "nbformat": 4,
  "nbformat_minor": 0,
  "metadata": {
    "colab": {
      "name": "Tugas10.ipynb",
      "provenance": [],
      "mount_file_id": "1Ej5pWxZM8eDTMJ-jaoJbvqBRWFP25UNm",
      "authorship_tag": "ABX9TyOK2RGFuzf2x+QQdALEJRrG",
      "include_colab_link": true
    },
    "kernelspec": {
      "display_name": "Python 3",
      "name": "python3"
    }
  },
  "cells": [
    {
      "cell_type": "markdown",
      "metadata": {
        "id": "view-in-github",
        "colab_type": "text"
      },
      "source": [
        "<a href=\"https://colab.research.google.com/github/akmalsbq/python/blob/main/Tugas10.ipynb\" target=\"_parent\"><img src=\"https://colab.research.google.com/assets/colab-badge.svg\" alt=\"Open In Colab\"/></a>"
      ]
    },
    {
      "cell_type": "code",
      "metadata": {
        "colab": {
          "base_uri": "https://localhost:8080/"
        },
        "id": "ZPn9ZK_MLh5d",
        "outputId": "42694613-0bd4-4e36-d808-89f12f4d520c"
      },
      "source": [
        "cd /content/drive/MyDrive/Colab Notebooks"
      ],
      "execution_count": null,
      "outputs": [
        {
          "output_type": "stream",
          "text": [
            "/content/drive/MyDrive/Colab Notebooks\n"
          ],
          "name": "stdout"
        }
      ]
    },
    {
      "cell_type": "code",
      "metadata": {
        "colab": {
          "base_uri": "https://localhost:8080/"
        },
        "id": "qsSaHKx_Lq2_",
        "outputId": "b45c5f7b-2351-4b5f-b363-470d8fd5be7d"
      },
      "source": [
        "ls"
      ],
      "execution_count": null,
      "outputs": [
        {
          "output_type": "stream",
          "text": [
            "\u001b[0m\u001b[01;34mTUGAS10\u001b[0m/  Untitled1.ipynb\n"
          ],
          "name": "stdout"
        }
      ]
    },
    {
      "cell_type": "code",
      "metadata": {
        "id": "1Fh-dU6KLrnC"
      },
      "source": [
        "# import the necessary packages\n",
        "from keras.models import Sequential\n",
        "from keras.layers.convolutional import Conv2D\n",
        "from keras.layers.convolutional import MaxPooling2D\n",
        "from keras.layers.core import Activation\n",
        "from keras.layers.core import Flatten\n",
        "from keras.layers.core import Dense\n",
        "from keras.optimizers import Adam\n",
        "from sklearn.preprocessing import LabelBinarizer\n",
        "from sklearn.model_selection import train_test_split\n",
        "from sklearn.metrics import classification_report\n",
        "from PIL import Image\n",
        "from imutils import paths\n",
        "import numpy as np\n",
        "import os"
      ],
      "execution_count": null,
      "outputs": []
    },
    {
      "cell_type": "code",
      "metadata": {
        "colab": {
          "base_uri": "https://localhost:8080/"
        },
        "id": "dRP_ItGpL1DT",
        "outputId": "3d24de37-9ec4-4353-9bb3-511d612d6892"
      },
      "source": [
        "# grab all image paths in the input dataset directory, then initialize\n",
        "# our list of images and corresponding class labels\n",
        "print(\"[INFO] loading images...\")\n",
        "imagePaths = paths.list_images(\"TUGAS10\")\n",
        "data = []\n",
        "labels = []"
      ],
      "execution_count": null,
      "outputs": [
        {
          "output_type": "stream",
          "text": [
            "[INFO] loading images...\n"
          ],
          "name": "stdout"
        }
      ]
    },
    {
      "cell_type": "code",
      "metadata": {
        "colab": {
          "background_save": true
        },
        "id": "FsgONxynL44P"
      },
      "source": [
        "# loop over our input images\n",
        "for imagePath in imagePaths:\n",
        "\t# load the input image from disk, resize it to 32x32 pixels, scale\n",
        "\t# the pixel intensities to the range [0, 1], and then update our\n",
        "\t# images list\n",
        "  image = Image.open(imagePath)\n",
        "  image = np.array(image.resize((32, 32))) / 255.0\n",
        "  data.append(image)\n",
        "\n",
        "\t# extract the class label from the file path and update the\n",
        "\t# labels list\n",
        "  label = imagePath.split(os.path.sep)[-2]\n",
        "  labels.append(label)"
      ],
      "execution_count": null,
      "outputs": []
    },
    {
      "cell_type": "code",
      "metadata": {
        "colab": {
          "base_uri": "https://localhost:8080/"
        },
        "id": "fyCMJe8xN9Du",
        "outputId": "376f16bd-cac0-4cf2-9f9f-72103c6cb80e"
      },
      "source": [
        "print(labels)"
      ],
      "execution_count": null,
      "outputs": [
        {
          "output_type": "stream",
          "text": [
            "['coast', 'coast', 'coast', 'coast', 'coast', 'coast', 'coast', 'coast', 'coast', 'coast', 'coast', 'coast', 'coast', 'coast', 'coast', 'coast', 'coast', 'coast', 'coast', 'coast', 'coast', 'coast', 'coast', 'coast', 'coast', 'coast', 'coast', 'coast', 'coast', 'coast', 'coast', 'coast', 'coast', 'coast', 'coast', 'coast', 'coast', 'coast', 'coast', 'coast', 'coast', 'coast', 'coast', 'coast', 'coast', 'coast', 'coast', 'coast', 'coast', 'coast', 'coast', 'coast', 'coast', 'coast', 'coast', 'coast', 'coast', 'coast', 'coast', 'coast', 'coast', 'coast', 'coast', 'coast', 'coast', 'coast', 'coast', 'coast', 'coast', 'coast', 'coast', 'coast', 'coast', 'coast', 'coast', 'coast', 'coast', 'coast', 'coast', 'coast', 'coast', 'coast', 'coast', 'coast', 'coast', 'coast', 'coast', 'coast', 'coast', 'coast', 'coast', 'coast', 'coast', 'coast', 'coast', 'coast', 'coast', 'coast', 'coast', 'coast', 'coast', 'coast', 'coast', 'coast', 'coast', 'coast', 'coast', 'coast', 'coast', 'coast', 'coast', 'coast', 'coast', 'coast', 'coast', 'coast', 'coast', 'coast', 'coast', 'coast', 'coast', 'coast', 'coast', 'coast', 'coast', 'coast', 'coast', 'coast', 'coast', 'coast', 'coast', 'coast', 'coast', 'coast', 'coast', 'coast', 'coast', 'coast', 'coast', 'coast', 'coast', 'coast', 'coast', 'coast', 'coast', 'coast', 'coast', 'coast', 'coast', 'coast', 'coast', 'coast', 'coast', 'coast', 'coast', 'coast', 'coast', 'coast', 'coast', 'coast', 'coast', 'coast', 'coast', 'coast', 'coast', 'coast', 'coast', 'coast', 'coast', 'coast', 'coast', 'coast', 'coast', 'coast', 'coast', 'coast', 'coast', 'coast', 'coast', 'coast', 'coast', 'coast', 'coast', 'coast', 'coast', 'coast', 'coast', 'coast', 'coast', 'coast', 'coast', 'coast', 'coast', 'coast', 'coast', 'coast', 'coast', 'coast', 'coast', 'coast', 'coast', 'coast', 'coast', 'coast', 'coast', 'coast', 'coast', 'coast', 'coast', 'coast', 'coast', 'coast', 'coast', 'coast', 'coast', 'coast', 'coast', 'coast', 'coast', 'coast', 'coast', 'coast', 'coast', 'coast', 'coast', 'coast', 'coast', 'coast', 'coast', 'coast', 'coast', 'coast', 'coast', 'coast', 'coast', 'coast', 'coast', 'coast', 'coast', 'coast', 'coast', 'coast', 'coast', 'coast', 'coast', 'coast', 'coast', 'coast', 'coast', 'coast', 'coast', 'coast', 'coast', 'coast', 'coast', 'coast', 'coast', 'coast', 'coast', 'coast', 'coast', 'coast', 'coast', 'coast', 'coast', 'coast', 'coast', 'coast', 'coast', 'coast', 'coast', 'coast', 'coast', 'coast', 'coast', 'coast', 'coast', 'coast', 'coast', 'coast', 'coast', 'coast', 'coast', 'coast', 'coast', 'coast', 'coast', 'coast', 'coast', 'coast', 'coast', 'coast', 'coast', 'coast', 'coast', 'coast', 'coast', 'coast', 'coast', 'coast', 'coast', 'coast', 'coast', 'coast', 'coast', 'coast', 'coast', 'coast', 'coast', 'coast', 'coast', 'coast', 'coast', 'coast', 'coast', 'coast', 'coast', 'coast', 'coast', 'coast', 'coast', 'coast', 'coast', 'coast', 'coast', 'coast', 'coast', 'coast', 'coast', 'coast', 'coast', 'coast', 'coast', 'coast', 'coast', 'coast', 'coast', 'coast', 'coast', 'coast', 'coast', 'coast', 'coast', 'coast', 'coast', 'coast', 'coast', 'coast', 'coast', 'coast', 'coast', 'coast', 'coast', 'coast', 'coast', 'coast', 'coast', 'coast', 'coast', 'coast', 'forest', 'forest', 'forest', 'forest', 'forest', 'forest', 'forest', 'forest', 'forest', 'forest', 'forest', 'forest', 'forest', 'forest', 'forest', 'forest', 'forest', 'forest', 'forest', 'forest', 'forest', 'forest', 'forest', 'forest', 'forest', 'forest', 'forest', 'forest', 'forest', 'forest', 'forest', 'forest', 'forest', 'forest', 'forest', 'forest', 'forest', 'forest', 'forest', 'forest', 'forest', 'forest', 'forest', 'forest', 'forest', 'forest', 'forest', 'forest', 'forest', 'forest', 'forest', 'forest', 'forest', 'forest', 'forest', 'forest', 'forest', 'forest', 'forest', 'forest', 'forest', 'forest', 'forest', 'forest', 'forest', 'forest', 'forest', 'forest', 'forest', 'forest', 'forest', 'forest', 'forest', 'forest', 'forest', 'forest', 'forest', 'forest', 'forest', 'forest', 'forest', 'forest', 'forest', 'forest', 'forest', 'forest', 'forest', 'forest', 'forest', 'forest', 'forest', 'forest', 'forest', 'forest', 'forest', 'forest', 'forest', 'forest', 'forest', 'forest', 'forest', 'forest', 'forest', 'forest', 'forest', 'forest', 'forest', 'forest', 'forest', 'forest', 'forest', 'forest', 'forest', 'forest', 'forest', 'forest', 'forest', 'forest', 'forest', 'forest', 'forest', 'forest', 'forest', 'forest', 'forest', 'forest', 'forest', 'forest', 'forest', 'forest', 'forest', 'forest', 'forest', 'forest', 'forest', 'forest', 'forest', 'forest', 'forest', 'forest', 'forest', 'forest', 'forest', 'forest', 'forest', 'forest', 'forest', 'forest', 'forest', 'forest', 'forest', 'forest', 'forest', 'forest', 'forest', 'forest', 'forest', 'forest', 'forest', 'forest', 'forest', 'forest', 'forest', 'forest', 'forest', 'forest', 'forest', 'forest', 'forest', 'forest', 'forest', 'forest', 'forest', 'forest', 'forest', 'forest', 'forest', 'forest', 'forest', 'forest', 'forest', 'forest', 'forest', 'forest', 'forest', 'forest', 'forest', 'forest', 'forest', 'forest', 'forest', 'forest', 'forest', 'forest', 'forest', 'forest', 'forest', 'forest', 'forest', 'forest', 'forest', 'forest', 'forest', 'forest', 'forest', 'forest', 'forest', 'forest', 'forest', 'forest', 'forest', 'forest', 'forest', 'forest', 'forest', 'forest', 'forest', 'forest', 'forest', 'forest', 'forest', 'forest', 'forest', 'forest', 'forest', 'forest', 'forest', 'forest', 'forest', 'forest', 'forest', 'forest', 'forest', 'forest', 'forest', 'forest', 'forest', 'forest', 'forest', 'forest', 'forest', 'forest', 'forest', 'forest', 'forest', 'forest', 'forest', 'forest', 'forest', 'forest', 'forest', 'forest', 'forest', 'forest', 'forest', 'forest', 'forest', 'forest', 'forest', 'forest', 'forest', 'forest', 'forest', 'forest', 'forest', 'forest', 'forest', 'forest', 'forest', 'forest', 'forest', 'forest', 'forest', 'forest', 'forest', 'forest', 'forest', 'forest', 'forest', 'forest', 'forest', 'forest', 'forest', 'forest', 'forest', 'forest', 'forest', 'forest', 'forest', 'forest', 'forest', 'forest', 'forest', 'forest', 'forest', 'forest', 'forest', 'forest', 'forest', 'forest', 'forest', 'forest', 'forest', 'forest', 'forest', 'forest', 'forest', 'forest', 'forest', 'forest', 'forest', 'forest', 'forest', 'forest', 'forest', 'forest', 'forest', 'forest', 'forest', 'forest', 'forest', 'forest', 'forest', 'forest', 'forest', 'forest', 'forest', 'forest', 'highway', 'highway', 'highway', 'highway', 'highway', 'highway', 'highway', 'highway', 'highway', 'highway', 'highway', 'highway', 'highway', 'highway', 'highway', 'highway', 'highway', 'highway', 'highway', 'highway', 'highway', 'highway', 'highway', 'highway', 'highway', 'highway', 'highway', 'highway', 'highway', 'highway', 'highway', 'highway', 'highway', 'highway', 'highway', 'highway', 'highway', 'highway', 'highway', 'highway', 'highway', 'highway', 'highway', 'highway', 'highway', 'highway', 'highway', 'highway', 'highway', 'highway', 'highway', 'highway', 'highway', 'highway', 'highway', 'highway', 'highway', 'highway', 'highway', 'highway', 'highway', 'highway', 'highway', 'highway', 'highway', 'highway', 'highway', 'highway', 'highway', 'highway', 'highway', 'highway', 'highway', 'highway', 'highway', 'highway', 'highway', 'highway', 'highway', 'highway', 'highway', 'highway', 'highway', 'highway', 'highway', 'highway', 'highway', 'highway', 'highway', 'highway', 'highway', 'highway', 'highway', 'highway', 'highway', 'highway', 'highway', 'highway', 'highway', 'highway', 'highway', 'highway', 'highway', 'highway', 'highway', 'highway', 'highway', 'highway', 'highway', 'highway', 'highway', 'highway', 'highway', 'highway', 'highway', 'highway', 'highway', 'highway', 'highway', 'highway', 'highway', 'highway', 'highway', 'highway', 'highway', 'highway', 'highway', 'highway', 'highway', 'highway', 'highway', 'highway', 'highway', 'highway', 'highway', 'highway', 'highway', 'highway', 'highway', 'highway', 'highway', 'highway', 'highway', 'highway', 'highway', 'highway', 'highway', 'highway', 'highway', 'highway', 'highway', 'highway', 'highway', 'highway', 'highway', 'highway', 'highway', 'highway', 'highway', 'highway', 'highway', 'highway', 'highway', 'highway', 'highway', 'highway', 'highway', 'highway', 'highway', 'highway', 'highway', 'highway', 'highway', 'highway', 'highway', 'highway', 'highway', 'highway', 'highway', 'highway', 'highway', 'highway', 'highway', 'highway', 'highway', 'highway', 'highway', 'highway', 'highway', 'highway', 'highway', 'highway', 'highway', 'highway', 'highway', 'highway', 'highway', 'highway', 'highway', 'highway', 'highway', 'highway', 'highway', 'highway', 'highway', 'highway', 'highway', 'highway', 'highway', 'highway', 'highway', 'highway', 'highway', 'highway', 'highway', 'highway', 'highway', 'highway', 'highway', 'highway', 'highway', 'highway', 'highway', 'highway', 'highway', 'highway', 'highway', 'highway', 'highway', 'highway', 'highway', 'highway', 'highway', 'highway', 'highway', 'highway', 'highway', 'highway', 'highway', 'highway', 'highway', 'highway', 'highway', 'highway', 'highway', 'highway', 'highway', 'highway', 'highway', 'highway', 'highway', 'highway', 'highway', 'highway', 'highway', 'highway', 'highway', 'highway', 'highway', 'highway']\n"
          ],
          "name": "stdout"
        }
      ]
    },
    {
      "cell_type": "code",
      "metadata": {
        "id": "Y1TyWp0zOoz-"
      },
      "source": [
        "# encode the labels, converting them from strings to integers\n",
        "lb = LabelBinarizer()\n",
        "labels = lb.fit_transform(labels)"
      ],
      "execution_count": null,
      "outputs": []
    },
    {
      "cell_type": "code",
      "metadata": {
        "colab": {
          "base_uri": "https://localhost:8080/"
        },
        "id": "odE7faiPOsY_",
        "outputId": "4a210088-cd3e-44d0-c864-3bac54ba2a0d"
      },
      "source": [
        "print(labels)"
      ],
      "execution_count": null,
      "outputs": [
        {
          "output_type": "stream",
          "text": [
            "[[1 0 0]\n",
            " [1 0 0]\n",
            " [1 0 0]\n",
            " ...\n",
            " [0 0 1]\n",
            " [0 0 1]\n",
            " [0 0 1]]\n"
          ],
          "name": "stdout"
        }
      ]
    },
    {
      "cell_type": "code",
      "metadata": {
        "colab": {
          "base_uri": "https://localhost:8080/"
        },
        "id": "znxS9jSqOufq",
        "outputId": "dfd23171-a391-4863-b10e-a93d55582041"
      },
      "source": [
        "# perform a training and testing split, using 75% of the data for\n",
        "# training and 25% for evaluation\n",
        "(trainX, testX, trainY, testY) = train_test_split(np.array(data),\tnp.array(labels), test_size=0.25)\n",
        "print(trainX.shape)\n",
        "print(testX.shape)"
      ],
      "execution_count": null,
      "outputs": [
        {
          "output_type": "stream",
          "text": [
            "(711, 32, 32, 3)\n",
            "(237, 32, 32, 3)\n"
          ],
          "name": "stdout"
        }
      ]
    },
    {
      "cell_type": "code",
      "metadata": {
        "id": "-BVVNnfDOyET"
      },
      "source": [
        "from keras.models import Sequential\n",
        "from keras.layers.core import Flatten\n",
        "from keras.layers.core import Dense\n",
        "\n",
        "model = Sequential(\n",
        "    [\n",
        "        Flatten(input_shape=(32*32*3,)),\n",
        "        Dense(50, activation=\"relu\", name=\"layer1\"),\n",
        "        Dense(55, activation=\"relu\", name=\"layer2\"),\n",
        "        Dense(60, activation=\"relu\", name=\"layer3\"),\n",
        "        Dense(60, activation=\"relu\", name=\"layer4\"),\n",
        "        Dense(55, activation=\"relu\", name=\"layer5\"),\n",
        "        Dense(50, activation=\"relu\", name=\"layer6\"),\n",
        "        Dense(3, activation = \"softmax\", name=\"layer7\"),\n",
        "    ]\n",
        ")"
      ],
      "execution_count": null,
      "outputs": []
    },
    {
      "cell_type": "code",
      "metadata": {
        "colab": {
          "base_uri": "https://localhost:8080/"
        },
        "id": "2jcJ8aftPKEZ",
        "outputId": "7bc251ec-9a80-4e5f-a4b1-2f2325384caa"
      },
      "source": [
        "model.summary()"
      ],
      "execution_count": null,
      "outputs": [
        {
          "output_type": "stream",
          "text": [
            "Model: \"sequential\"\n",
            "_________________________________________________________________\n",
            "Layer (type)                 Output Shape              Param #   \n",
            "=================================================================\n",
            "flatten (Flatten)            (None, 3072)              0         \n",
            "_________________________________________________________________\n",
            "layer1 (Dense)               (None, 50)                153650    \n",
            "_________________________________________________________________\n",
            "layer2 (Dense)               (None, 55)                2805      \n",
            "_________________________________________________________________\n",
            "layer3 (Dense)               (None, 60)                3360      \n",
            "_________________________________________________________________\n",
            "layer4 (Dense)               (None, 60)                3660      \n",
            "_________________________________________________________________\n",
            "layer5 (Dense)               (None, 55)                3355      \n",
            "_________________________________________________________________\n",
            "layer6 (Dense)               (None, 50)                2800      \n",
            "_________________________________________________________________\n",
            "layer7 (Dense)               (None, 3)                 153       \n",
            "=================================================================\n",
            "Total params: 169,783\n",
            "Trainable params: 169,783\n",
            "Non-trainable params: 0\n",
            "_________________________________________________________________\n"
          ],
          "name": "stdout"
        }
      ]
    },
    {
      "cell_type": "code",
      "metadata": {
        "colab": {
          "base_uri": "https://localhost:8080/"
        },
        "id": "HRYRPCK8PMVa",
        "outputId": "41979efd-5092-4ccc-a00b-087f9d2093e4"
      },
      "source": [
        "# train the model using the Adam optimizer\n",
        "print(\"[INFO] training network...\")\n",
        "opt = Adam(lr=1e-3, decay=1e-3 / 50)\n",
        "model.compile(loss=\"categorical_crossentropy\", optimizer=opt,\n",
        "\tmetrics=[\"accuracy\"])\n",
        "H = model.fit(trainX, trainY, validation_data=(testX, testY), epochs=35, batch_size=45,)"
      ],
      "execution_count": null,
      "outputs": [
        {
          "output_type": "stream",
          "text": [
            "[INFO] training network...\n",
            "Epoch 1/35\n",
            "WARNING:tensorflow:Model was constructed with shape (None, 3072) for input Tensor(\"flatten_input:0\", shape=(None, 3072), dtype=float32), but it was called on an input with incompatible shape (None, 32, 32, 3).\n",
            "WARNING:tensorflow:Model was constructed with shape (None, 3072) for input Tensor(\"flatten_input:0\", shape=(None, 3072), dtype=float32), but it was called on an input with incompatible shape (None, 32, 32, 3).\n",
            "14/16 [=========================>....] - ETA: 0s - loss: 1.0692 - accuracy: 0.4333WARNING:tensorflow:Model was constructed with shape (None, 3072) for input Tensor(\"flatten_input:0\", shape=(None, 3072), dtype=float32), but it was called on an input with incompatible shape (None, 32, 32, 3).\n",
            "16/16 [==============================] - 0s 16ms/step - loss: 1.0585 - accuracy: 0.4473 - val_loss: 0.9567 - val_accuracy: 0.5781\n",
            "Epoch 2/35\n",
            "16/16 [==============================] - 0s 5ms/step - loss: 0.8847 - accuracy: 0.5865 - val_loss: 0.7981 - val_accuracy: 0.6118\n",
            "Epoch 3/35\n",
            "16/16 [==============================] - 0s 4ms/step - loss: 0.8403 - accuracy: 0.6259 - val_loss: 0.8344 - val_accuracy: 0.6793\n",
            "Epoch 4/35\n",
            "16/16 [==============================] - 0s 4ms/step - loss: 0.7566 - accuracy: 0.6765 - val_loss: 0.7256 - val_accuracy: 0.6751\n",
            "Epoch 5/35\n",
            "16/16 [==============================] - 0s 4ms/step - loss: 0.6520 - accuracy: 0.7426 - val_loss: 0.6567 - val_accuracy: 0.7511\n",
            "Epoch 6/35\n",
            "16/16 [==============================] - 0s 4ms/step - loss: 0.6337 - accuracy: 0.7454 - val_loss: 0.6939 - val_accuracy: 0.7342\n",
            "Epoch 7/35\n",
            "16/16 [==============================] - 0s 4ms/step - loss: 0.5682 - accuracy: 0.7736 - val_loss: 0.8058 - val_accuracy: 0.6203\n",
            "Epoch 8/35\n",
            "16/16 [==============================] - 0s 4ms/step - loss: 0.5256 - accuracy: 0.7989 - val_loss: 0.6242 - val_accuracy: 0.7679\n",
            "Epoch 9/35\n",
            "16/16 [==============================] - 0s 4ms/step - loss: 0.5104 - accuracy: 0.8017 - val_loss: 0.5986 - val_accuracy: 0.7890\n",
            "Epoch 10/35\n",
            "16/16 [==============================] - 0s 5ms/step - loss: 0.4598 - accuracy: 0.8129 - val_loss: 0.5781 - val_accuracy: 0.7975\n",
            "Epoch 11/35\n",
            "16/16 [==============================] - 0s 5ms/step - loss: 0.4481 - accuracy: 0.8326 - val_loss: 0.6039 - val_accuracy: 0.8017\n",
            "Epoch 12/35\n",
            "16/16 [==============================] - 0s 4ms/step - loss: 0.3957 - accuracy: 0.8622 - val_loss: 0.5953 - val_accuracy: 0.7595\n",
            "Epoch 13/35\n",
            "16/16 [==============================] - 0s 4ms/step - loss: 0.3813 - accuracy: 0.8565 - val_loss: 0.6089 - val_accuracy: 0.7806\n",
            "Epoch 14/35\n",
            "16/16 [==============================] - 0s 4ms/step - loss: 0.4052 - accuracy: 0.8523 - val_loss: 0.5674 - val_accuracy: 0.8101\n",
            "Epoch 15/35\n",
            "16/16 [==============================] - 0s 5ms/step - loss: 0.3793 - accuracy: 0.8509 - val_loss: 0.5983 - val_accuracy: 0.8059\n",
            "Epoch 16/35\n",
            "16/16 [==============================] - 0s 4ms/step - loss: 0.4270 - accuracy: 0.8354 - val_loss: 0.6605 - val_accuracy: 0.7722\n",
            "Epoch 17/35\n",
            "16/16 [==============================] - 0s 4ms/step - loss: 0.4101 - accuracy: 0.8537 - val_loss: 0.5998 - val_accuracy: 0.8059\n",
            "Epoch 18/35\n",
            "16/16 [==============================] - 0s 4ms/step - loss: 0.3674 - accuracy: 0.8650 - val_loss: 0.5655 - val_accuracy: 0.8101\n",
            "Epoch 19/35\n",
            "16/16 [==============================] - 0s 4ms/step - loss: 0.3959 - accuracy: 0.8537 - val_loss: 0.5477 - val_accuracy: 0.8228\n",
            "Epoch 20/35\n",
            "16/16 [==============================] - 0s 4ms/step - loss: 0.3832 - accuracy: 0.8664 - val_loss: 0.6743 - val_accuracy: 0.7384\n",
            "Epoch 21/35\n",
            "16/16 [==============================] - 0s 4ms/step - loss: 0.3425 - accuracy: 0.8776 - val_loss: 0.5588 - val_accuracy: 0.8270\n",
            "Epoch 22/35\n",
            "16/16 [==============================] - 0s 4ms/step - loss: 0.2938 - accuracy: 0.9001 - val_loss: 0.5812 - val_accuracy: 0.8397\n",
            "Epoch 23/35\n",
            "16/16 [==============================] - 0s 5ms/step - loss: 0.3006 - accuracy: 0.8987 - val_loss: 0.6179 - val_accuracy: 0.7764\n",
            "Epoch 24/35\n",
            "16/16 [==============================] - 0s 5ms/step - loss: 0.3252 - accuracy: 0.8790 - val_loss: 0.5810 - val_accuracy: 0.7932\n",
            "Epoch 25/35\n",
            "16/16 [==============================] - 0s 5ms/step - loss: 0.3212 - accuracy: 0.8720 - val_loss: 0.5498 - val_accuracy: 0.7932\n",
            "Epoch 26/35\n",
            "16/16 [==============================] - 0s 4ms/step - loss: 0.3153 - accuracy: 0.8762 - val_loss: 0.5602 - val_accuracy: 0.7975\n",
            "Epoch 27/35\n",
            "16/16 [==============================] - 0s 5ms/step - loss: 0.2511 - accuracy: 0.9086 - val_loss: 0.5765 - val_accuracy: 0.8101\n",
            "Epoch 28/35\n",
            "16/16 [==============================] - 0s 4ms/step - loss: 0.2797 - accuracy: 0.8945 - val_loss: 0.5713 - val_accuracy: 0.8186\n",
            "Epoch 29/35\n",
            "16/16 [==============================] - 0s 5ms/step - loss: 0.2966 - accuracy: 0.8875 - val_loss: 0.8383 - val_accuracy: 0.6962\n",
            "Epoch 30/35\n",
            "16/16 [==============================] - 0s 4ms/step - loss: 0.3426 - accuracy: 0.8523 - val_loss: 0.6487 - val_accuracy: 0.7384\n",
            "Epoch 31/35\n",
            "16/16 [==============================] - 0s 4ms/step - loss: 0.2629 - accuracy: 0.9030 - val_loss: 0.6260 - val_accuracy: 0.7764\n",
            "Epoch 32/35\n",
            "16/16 [==============================] - 0s 4ms/step - loss: 0.2830 - accuracy: 0.8959 - val_loss: 0.7175 - val_accuracy: 0.7637\n",
            "Epoch 33/35\n",
            "16/16 [==============================] - 0s 4ms/step - loss: 0.3523 - accuracy: 0.8622 - val_loss: 0.5408 - val_accuracy: 0.8186\n",
            "Epoch 34/35\n",
            "16/16 [==============================] - 0s 5ms/step - loss: 0.2783 - accuracy: 0.8959 - val_loss: 0.5426 - val_accuracy: 0.7848\n",
            "Epoch 35/35\n",
            "16/16 [==============================] - 0s 5ms/step - loss: 0.2443 - accuracy: 0.9142 - val_loss: 0.6376 - val_accuracy: 0.8059\n"
          ],
          "name": "stdout"
        }
      ]
    },
    {
      "cell_type": "code",
      "metadata": {
        "colab": {
          "base_uri": "https://localhost:8080/",
          "height": 590
        },
        "id": "fpVOryxBPR5E",
        "outputId": "922d9715-b295-4cd4-d62a-7b7b88102a79"
      },
      "source": [
        "import matplotlib.pyplot as plt\n",
        "\n",
        "print(H.history.keys())\n",
        "# summarize history for accuracy\n",
        "plt.plot(H.history['accuracy'])\n",
        "plt.plot(H.history['val_accuracy'])\n",
        "plt.title('model accuracy')\n",
        "plt.ylabel('accuracy')\n",
        "plt.xlabel('epoch')\n",
        "plt.legend(['train', 'test'], loc='upper left')\n",
        "plt.show()\n",
        "# summarize history for loss\n",
        "plt.plot(H.history['loss'])\n",
        "plt.plot(H.history['val_loss'])\n",
        "plt.title('model loss')\n",
        "plt.ylabel('loss')\n",
        "plt.xlabel('epoch')\n",
        "plt.legend(['train', 'test'], loc='upper left')\n",
        "plt.show()"
      ],
      "execution_count": null,
      "outputs": [
        {
          "output_type": "stream",
          "text": [
            "dict_keys(['loss', 'accuracy', 'val_loss', 'val_accuracy'])\n"
          ],
          "name": "stdout"
        },
        {
          "output_type": "display_data",
          "data": {
            "image/png": "[encoded data removed]",
            "text/plain": [
              "<Figure size 432x288 with 1 Axes>"
            ]
          },
          "metadata": {
            "tags": []
          }
        },
        {
          "output_type": "display_data",
          "data": {
            "image/png": "[encoded data removed]",
            "text/plain": [
              "<Figure size 432x288 with 1 Axes>"
            ]
          },
          "metadata": {
            "tags": []
          }
        }
      ]
    },
    {
      "cell_type": "code",
      "metadata": {
        "colab": {
          "base_uri": "https://localhost:8080/"
        },
        "id": "71sL4568PWn0",
        "outputId": "a27ca2f7-1a3b-410f-b31a-5fb769018307"
      },
      "source": [
        "# evaluate the network\n",
        "print(\"[INFO] evaluating network...\")\n",
        "predictions = model.predict(testX, batch_size=64)\n",
        "print(classification_report(testY.argmax(axis=1),\n",
        "\tpredictions.argmax(axis=1), target_names=lb.classes_))"
      ],
      "execution_count": null,
      "outputs": [
        {
          "output_type": "stream",
          "text": [
            "[INFO] evaluating network...\n",
            "WARNING:tensorflow:Model was constructed with shape (None, 3072) for input Tensor(\"flatten_input:0\", shape=(None, 3072), dtype=float32), but it was called on an input with incompatible shape (None, 32, 32, 3).\n",
            "              precision    recall  f1-score   support\n",
            "\n",
            "       coast       0.75      0.89      0.82        94\n",
            "      forest       0.85      0.84      0.84        74\n",
            "     highway       0.87      0.65      0.74        69\n",
            "\n",
            "    accuracy                           0.81       237\n",
            "   macro avg       0.82      0.79      0.80       237\n",
            "weighted avg       0.81      0.81      0.80       237\n",
            "\n"
          ],
          "name": "stdout"
        }
      ]
    },
    {
      "cell_type": "code",
      "metadata": {
        "id": "_H7ZWihjPeAY"
      },
      "source": [
        ""
      ],
      "execution_count": null,
      "outputs": []
    }
  ]
}