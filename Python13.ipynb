{
  "nbformat": 4,
  "nbformat_minor": 0,
  "metadata": {
    "colab": {
      "name": "Python13.ipynb",
      "provenance": [],
      "authorship_tag": "ABX9TyP2oz7SXCJhWi38xlB9fki6",
      "include_colab_link": true
    },
    "kernelspec": {
      "name": "python3",
      "display_name": "Python 3"
    }
  },
  "cells": [
    {
      "cell_type": "markdown",
      "metadata": {
        "id": "view-in-github",
        "colab_type": "text"
      },
      "source": [
        "<a href=\"https://colab.research.google.com/github/akmalsbq/python/blob/main/Python13.ipynb\" target=\"_parent\"><img src=\"https://colab.research.google.com/assets/colab-badge.svg\" alt=\"Open In Colab\"/></a>"
      ]
    },
    {
      "cell_type": "markdown",
      "metadata": {
        "id": "FQC_AUmtBbmk"
      },
      "source": [
        "# Numpy dan Matplotlib (Path Loss Simulation)\n",
        "## Akmal Sabiq Muzakki-1101208145-TTX-44-01"
      ]
    },
    {
      "cell_type": "code",
      "metadata": {
        "id": "_a_N7F-JBnG8"
      },
      "source": [
        "import numpy as np\n",
        "import matplotlib.pyplot as plt\n"
      ],
      "execution_count": 1,
      "outputs": []
    },
    {
      "cell_type": "code",
      "metadata": {
        "colab": {
          "base_uri": "https://localhost:8080/"
        },
        "id": "p2IhgozVHEBy",
        "outputId": "e9fdf7d5-78d1-49be-a939-2f0da1d65ea6"
      },
      "source": [
        "np.zeros(4)"
      ],
      "execution_count": 2,
      "outputs": [
        {
          "output_type": "execute_result",
          "data": {
            "text/plain": [
              "array([0., 0., 0., 0.])"
            ]
          },
          "metadata": {
            "tags": []
          },
          "execution_count": 2
        }
      ]
    },
    {
      "cell_type": "code",
      "metadata": {
        "colab": {
          "base_uri": "https://localhost:8080/"
        },
        "id": "QtGgWIULHOzi",
        "outputId": "a7c99d9b-733e-4fdb-9bd3-5b115025501e"
      },
      "source": [
        "np.ones(3)"
      ],
      "execution_count": 3,
      "outputs": [
        {
          "output_type": "execute_result",
          "data": {
            "text/plain": [
              "array([1., 1., 1.])"
            ]
          },
          "metadata": {
            "tags": []
          },
          "execution_count": 3
        }
      ]
    },
    {
      "cell_type": "markdown",
      "metadata": {
        "id": "lwGp9q-HHiEb"
      },
      "source": [
        "**(Baris,Kolom)**"
      ]
    },
    {
      "cell_type": "code",
      "metadata": {
        "colab": {
          "base_uri": "https://localhost:8080/"
        },
        "id": "fSMPTFUeHXeT",
        "outputId": "3015320d-98b2-4ce0-bd51-c285416a1d79"
      },
      "source": [
        "np.zeros((3,4))"
      ],
      "execution_count": 4,
      "outputs": [
        {
          "output_type": "execute_result",
          "data": {
            "text/plain": [
              "array([[0., 0., 0., 0.],\n",
              "       [0., 0., 0., 0.],\n",
              "       [0., 0., 0., 0.]])"
            ]
          },
          "metadata": {
            "tags": []
          },
          "execution_count": 4
        }
      ]
    },
    {
      "cell_type": "code",
      "metadata": {
        "colab": {
          "base_uri": "https://localhost:8080/"
        },
        "id": "fe_utTgWHge9",
        "outputId": "1867d969-7ade-40c6-bffe-9b4f4b2f900a"
      },
      "source": [
        "np.ones((5,2))"
      ],
      "execution_count": 5,
      "outputs": [
        {
          "output_type": "execute_result",
          "data": {
            "text/plain": [
              "array([[1., 1.],\n",
              "       [1., 1.],\n",
              "       [1., 1.],\n",
              "       [1., 1.],\n",
              "       [1., 1.]])"
            ]
          },
          "metadata": {
            "tags": []
          },
          "execution_count": 5
        }
      ]
    },
    {
      "cell_type": "code",
      "metadata": {
        "colab": {
          "base_uri": "https://localhost:8080/"
        },
        "id": "w7tGab0KHpON",
        "outputId": "0a9a102f-8eec-4108-c2ed-ec736e2a0e77"
      },
      "source": [
        "np.arange(10)"
      ],
      "execution_count": 6,
      "outputs": [
        {
          "output_type": "execute_result",
          "data": {
            "text/plain": [
              "array([0, 1, 2, 3, 4, 5, 6, 7, 8, 9])"
            ]
          },
          "metadata": {
            "tags": []
          },
          "execution_count": 6
        }
      ]
    },
    {
      "cell_type": "code",
      "metadata": {
        "colab": {
          "base_uri": "https://localhost:8080/"
        },
        "id": "KWuV08zbHyNX",
        "outputId": "c35fe7b9-9095-4c44-ac26-abdbe5fc66e6"
      },
      "source": [
        "np.arange(2,10)"
      ],
      "execution_count": 7,
      "outputs": [
        {
          "output_type": "execute_result",
          "data": {
            "text/plain": [
              "array([2, 3, 4, 5, 6, 7, 8, 9])"
            ]
          },
          "metadata": {
            "tags": []
          },
          "execution_count": 7
        }
      ]
    },
    {
      "cell_type": "code",
      "metadata": {
        "colab": {
          "base_uri": "https://localhost:8080/"
        },
        "id": "Ohl_udXnH-Oz",
        "outputId": "a80b331b-ad7c-4081-91a9-8e1a0fed8a00"
      },
      "source": [
        "np.arange(3,47,4)"
      ],
      "execution_count": 8,
      "outputs": [
        {
          "output_type": "execute_result",
          "data": {
            "text/plain": [
              "array([ 3,  7, 11, 15, 19, 23, 27, 31, 35, 39, 43])"
            ]
          },
          "metadata": {
            "tags": []
          },
          "execution_count": 8
        }
      ]
    },
    {
      "cell_type": "code",
      "metadata": {
        "id": "OQ72u2w4INT5"
      },
      "source": [
        ""
      ],
      "execution_count": 8,
      "outputs": []
    },
    {
      "cell_type": "markdown",
      "metadata": {
        "id": "IdF4bg_jITm-"
      },
      "source": [
        "Arange = (Awal,Akhir,delta)"
      ]
    },
    {
      "cell_type": "code",
      "metadata": {
        "colab": {
          "base_uri": "https://localhost:8080/"
        },
        "id": "W5CxZ4mpIaFx",
        "outputId": "d6da193b-4dbe-4ba1-9daa-58fc4579d6a8"
      },
      "source": [
        "np.arange(4,5,0.1)"
      ],
      "execution_count": 9,
      "outputs": [
        {
          "output_type": "execute_result",
          "data": {
            "text/plain": [
              "array([4. , 4.1, 4.2, 4.3, 4.4, 4.5, 4.6, 4.7, 4.8, 4.9])"
            ]
          },
          "metadata": {
            "tags": []
          },
          "execution_count": 9
        }
      ]
    },
    {
      "cell_type": "code",
      "metadata": {
        "colab": {
          "base_uri": "https://localhost:8080/"
        },
        "id": "bTgHkXmUIg7L",
        "outputId": "5d7c5a0a-51f9-4e95-9f8f-65677a62a0e6"
      },
      "source": [
        "np.arange(2,-4,-0.5)"
      ],
      "execution_count": 10,
      "outputs": [
        {
          "output_type": "execute_result",
          "data": {
            "text/plain": [
              "array([ 2. ,  1.5,  1. ,  0.5,  0. , -0.5, -1. , -1.5, -2. , -2.5, -3. ,\n",
              "       -3.5])"
            ]
          },
          "metadata": {
            "tags": []
          },
          "execution_count": 10
        }
      ]
    },
    {
      "cell_type": "code",
      "metadata": {
        "colab": {
          "base_uri": "https://localhost:8080/"
        },
        "id": "nktsy1fkI54z",
        "outputId": "4d2604bd-96a1-4f3b-f331-bd45702d183d"
      },
      "source": [
        "np.linspace(2,10,4)"
      ],
      "execution_count": 11,
      "outputs": [
        {
          "output_type": "execute_result",
          "data": {
            "text/plain": [
              "array([ 2.        ,  4.66666667,  7.33333333, 10.        ])"
            ]
          },
          "metadata": {
            "tags": []
          },
          "execution_count": 11
        }
      ]
    },
    {
      "cell_type": "code",
      "metadata": {
        "colab": {
          "base_uri": "https://localhost:8080/"
        },
        "id": "NSyeDR0FJc3X",
        "outputId": "ba4d3867-474c-43e4-b551-7a2bcfeb151c"
      },
      "source": [
        "np.linspace(2,-4,4)"
      ],
      "execution_count": 12,
      "outputs": [
        {
          "output_type": "execute_result",
          "data": {
            "text/plain": [
              "array([ 2.,  0., -2., -4.])"
            ]
          },
          "metadata": {
            "tags": []
          },
          "execution_count": 12
        }
      ]
    },
    {
      "cell_type": "code",
      "metadata": {
        "id": "WGdTFhoiJppN"
      },
      "source": [
        "e=np.arange(0,20,2)"
      ],
      "execution_count": 13,
      "outputs": []
    },
    {
      "cell_type": "code",
      "metadata": {
        "colab": {
          "base_uri": "https://localhost:8080/"
        },
        "id": "CGf98_AHKD9M",
        "outputId": "10422fa7-108e-4dac-aeb0-0c5eead5494e"
      },
      "source": [
        "len(e)"
      ],
      "execution_count": 14,
      "outputs": [
        {
          "output_type": "execute_result",
          "data": {
            "text/plain": [
              "10"
            ]
          },
          "metadata": {
            "tags": []
          },
          "execution_count": 14
        }
      ]
    },
    {
      "cell_type": "code",
      "metadata": {
        "colab": {
          "base_uri": "https://localhost:8080/"
        },
        "id": "TrQRn9faKFeo",
        "outputId": "bdfb2b46-7459-4c7f-9ae1-2591a12634e2"
      },
      "source": [
        "e.reshape(5,2)"
      ],
      "execution_count": 15,
      "outputs": [
        {
          "output_type": "execute_result",
          "data": {
            "text/plain": [
              "array([[ 0,  2],\n",
              "       [ 4,  6],\n",
              "       [ 8, 10],\n",
              "       [12, 14],\n",
              "       [16, 18]])"
            ]
          },
          "metadata": {
            "tags": []
          },
          "execution_count": 15
        }
      ]
    },
    {
      "cell_type": "code",
      "metadata": {
        "colab": {
          "base_uri": "https://localhost:8080/"
        },
        "id": "-SQXnZkeKJxM",
        "outputId": "74f6120c-ff43-4922-a499-6db7f54ae442"
      },
      "source": [
        "e.reshape(2,5)"
      ],
      "execution_count": 16,
      "outputs": [
        {
          "output_type": "execute_result",
          "data": {
            "text/plain": [
              "array([[ 0,  2,  4,  6,  8],\n",
              "       [10, 12, 14, 16, 18]])"
            ]
          },
          "metadata": {
            "tags": []
          },
          "execution_count": 16
        }
      ]
    },
    {
      "cell_type": "code",
      "metadata": {
        "colab": {
          "base_uri": "https://localhost:8080/"
        },
        "id": "cfxPx2XhKM2a",
        "outputId": "dac5cb1e-d3a7-4e4d-8e7d-05f1115fd602"
      },
      "source": [
        "print(e)"
      ],
      "execution_count": 17,
      "outputs": [
        {
          "output_type": "stream",
          "text": [
            "[ 0  2  4  6  8 10 12 14 16 18]\n"
          ],
          "name": "stdout"
        }
      ]
    },
    {
      "cell_type": "code",
      "metadata": {
        "id": "HmwbQ4d7KP-5"
      },
      "source": [
        "f=e.reshape(5,2)"
      ],
      "execution_count": 18,
      "outputs": []
    },
    {
      "cell_type": "code",
      "metadata": {
        "colab": {
          "base_uri": "https://localhost:8080/"
        },
        "id": "InZvEqHrKoPy",
        "outputId": "35632467-e73f-491d-a042-f2c8ac7213d8"
      },
      "source": [
        "print(f)"
      ],
      "execution_count": 19,
      "outputs": [
        {
          "output_type": "stream",
          "text": [
            "[[ 0  2]\n",
            " [ 4  6]\n",
            " [ 8 10]\n",
            " [12 14]\n",
            " [16 18]]\n"
          ],
          "name": "stdout"
        }
      ]
    },
    {
      "cell_type": "code",
      "metadata": {
        "colab": {
          "base_uri": "https://localhost:8080/"
        },
        "id": "Od42_rDpMhUQ",
        "outputId": "3d3624cb-5756-4b6a-b5a4-bd9cd88713f5"
      },
      "source": [
        "np.random.random((3,4))"
      ],
      "execution_count": 20,
      "outputs": [
        {
          "output_type": "execute_result",
          "data": {
            "text/plain": [
              "array([[0.79449596, 0.28236344, 0.84300811, 0.50538988],\n",
              "       [0.16071777, 0.76880471, 0.68112903, 0.77135735],\n",
              "       [0.62187111, 0.67226223, 0.68716795, 0.20507961]])"
            ]
          },
          "metadata": {
            "tags": []
          },
          "execution_count": 20
        }
      ]
    },
    {
      "cell_type": "code",
      "metadata": {
        "colab": {
          "base_uri": "https://localhost:8080/"
        },
        "id": "Qdktkp3dMmRV",
        "outputId": "b781fa69-dc00-452f-c5aa-dbfc856c69d6"
      },
      "source": [
        "np.random.randint(1,20,10)"
      ],
      "execution_count": 21,
      "outputs": [
        {
          "output_type": "execute_result",
          "data": {
            "text/plain": [
              "array([ 7, 19, 18, 14, 11,  5, 15, 13,  8, 16])"
            ]
          },
          "metadata": {
            "tags": []
          },
          "execution_count": 21
        }
      ]
    },
    {
      "cell_type": "code",
      "metadata": {
        "colab": {
          "base_uri": "https://localhost:8080/"
        },
        "id": "E4nPQ-KJNBSQ",
        "outputId": "1c832f76-f5b8-45ab-a04d-f7764204e7e5"
      },
      "source": [
        "np.random.randn(3)"
      ],
      "execution_count": 22,
      "outputs": [
        {
          "output_type": "execute_result",
          "data": {
            "text/plain": [
              "array([ 0.01621286,  0.52304417, -0.06788927])"
            ]
          },
          "metadata": {
            "tags": []
          },
          "execution_count": 22
        }
      ]
    },
    {
      "cell_type": "code",
      "metadata": {
        "id": "Fk3jszUyNdxZ"
      },
      "source": [
        ""
      ],
      "execution_count": 22,
      "outputs": []
    },
    {
      "cell_type": "markdown",
      "metadata": {
        "id": "nAL9h3AneiD4"
      },
      "source": [
        "# **Grafik Frekuensi 1800MHz pada Daerah Urban, Open, dan Sub Urban**"
      ]
    },
    {
      "cell_type": "code",
      "metadata": {
        "id": "7bOjuB7ke9Os"
      },
      "source": [
        "def cos(frek,tipe,ht,hr,d):\r\n",
        "    if frek in range(150,1501):\r\n",
        "        Ca=69.55\r\n",
        "        Cb=26.16\r\n",
        "    elif frek in range(1501,2001):\r\n",
        "        Ca=46.3\r\n",
        "        Cb=33.9\r\n",
        "    \r\n",
        "    if tipe=='urban' :\r\n",
        "        Cm=0\r\n",
        "    elif tipe=='suburban' :\r\n",
        "        Cm= -2*((np.log10((frek/28)**2))-5.4)\r\n",
        "    elif tipe=='open' :\r\n",
        "        Cm= -4.78*(np.log10(frek))+18.33*(np.log10(frek))-40.94\r\n",
        "    else :\r\n",
        "        Cm='tipe salah'\r\n",
        "    \r\n",
        "    ahr = (1.1*np.log10(frek)-0.7)*hr-(1.56*np.log10(frek)-1.8)\r\n",
        "    Lp = Ca+(Cb*np.log10(frek))-(13.83*np.log(ht))-ahr+((44.9-6.55*np.log10(ht))*np.log10(d))-Cm\r\n",
        "    \r\n",
        "    return Lp"
      ],
      "execution_count": 23,
      "outputs": []
    },
    {
      "cell_type": "code",
      "metadata": {
        "id": "nezVGk5OfBn_"
      },
      "source": [
        "f=1800 #MHz\r\n",
        "loc1='urban'\r\n",
        "loc2='open'\r\n",
        "loc3='suburban'\r\n",
        "tower=80 #m\r\n",
        "user=1.5 #m\r\n",
        "dmin=200 #m\r\n",
        "dmax=700 #m\r\n",
        "N=200 #titik\r\n",
        "d=np.random.randint(dmin,dmax,N)"
      ],
      "execution_count": 24,
      "outputs": []
    },
    {
      "cell_type": "code",
      "metadata": {
        "colab": {
          "base_uri": "https://localhost:8080/"
        },
        "id": "5_O5uC7GfRkX",
        "outputId": "a17af88f-271b-4fa0-d39c-763aca9434b7"
      },
      "source": [
        "print(d)"
      ],
      "execution_count": 25,
      "outputs": [
        {
          "output_type": "stream",
          "text": [
            "[575 659 268 688 695 555 669 694 420 368 457 496 389 507 215 525 677 615\n",
            " 297 638 562 356 274 406 557 516 559 576 414 427 423 635 668 425 521 511\n",
            " 283 659 347 595 631 480 418 200 539 204 579 343 239 563 530 648 625 224\n",
            " 363 403 638 361 544 339 240 632 314 259 472 330 369 330 614 435 529 671\n",
            " 468 235 226 459 404 697 455 269 568 595 633 383 479 309 375 413 617 280\n",
            " 384 608 481 484 295 374 488 272 231 516 388 423 491 505 620 683 301 619\n",
            " 666 520 551 335 530 463 467 566 637 300 222 462 461 592 462 337 343 499\n",
            " 601 440 423 531 515 554 442 380 684 410 599 373 385 350 374 250 201 656\n",
            " 386 481 331 578 200 476 604 202 368 613 387 284 230 484 405 372 507 691\n",
            " 345 552 423 641 493 316 205 565 323 595 650 465 665 592 376 353 601 685\n",
            " 316 387 467 349 542 536 340 344 609 228 678 242 675 607 522 590 229 409\n",
            " 654 419]\n"
          ],
          "name": "stdout"
        }
      ]
    },
    {
      "cell_type": "code",
      "metadata": {
        "id": "kB9jNu0OfT7Q"
      },
      "source": [
        "LpUrban=cos(f,loc1,tower,user,d)\r\n",
        "LpOpen=cos(f,loc2,tower,user,d)\r\n",
        "LpSuburban=cos(f,loc3,tower,user,d)"
      ],
      "execution_count": 26,
      "outputs": []
    },
    {
      "cell_type": "code",
      "metadata": {
        "colab": {
          "base_uri": "https://localhost:8080/"
        },
        "id": "a-PkNSClffVO",
        "outputId": "1526a0d2-ba4e-4f18-bb68-1f419658e43a"
      },
      "source": [
        "print(LpUrban, LpOpen, LpSuburban)"
      ],
      "execution_count": 27,
      "outputs": [
        {
          "output_type": "stream",
          "text": [
            "[184.51650088 186.43720858 173.76330575 187.04383667 187.18643176\n",
            " 184.01782092 186.64935472 187.1661492  180.09179773 178.22999474\n",
            " 181.28108017 182.43463788 179.01173029 182.74362058 170.65941807\n",
            " 183.2350508  186.81680082 185.46383172 175.21059846 185.98102224\n",
            " 184.19437411 177.76300487 174.07519091 179.61425242 184.0684909\n",
            " 182.99147866 184.11897926 184.5409774  179.88911456 180.3246334\n",
            " 180.19205607 185.91462979 186.62828331 180.25850071 183.12731614\n",
            " 182.8543185  174.53044108 186.43720858 177.40231336 184.99812856\n",
            " 185.82561694 181.97275265 180.02456019 169.64069205 183.60576266\n",
            " 169.91963656 184.61415283 177.23899284 172.15010153 184.21941631\n",
            " 183.36857064 186.20009722 185.69103403 171.23706683 178.03729354\n",
            " 179.50978046 185.98102224 177.95946883 183.73583041 177.07375648\n",
            " 172.20891681 185.84792294 175.99465037 173.28213511 181.73600358\n",
            " 176.69473171 178.26822064 176.69473171 185.44090863 180.5861024\n",
            " 183.34196773 186.69140322 181.61611999 171.91235348 171.36227866\n",
            " 181.34259222 179.54469061 187.22690949 181.21929832 173.81576852\n",
            " 184.34396388 184.99812856 185.87019368 178.79276882 181.94337571\n",
            " 175.76854219 178.49542295 179.85504867 185.5095663  174.3803199\n",
            " 178.82949958 185.30258113 182.00206845 182.08965155 175.11542082\n",
            " 178.45780947 182.20558832 173.97199457 171.67052372 182.99147866\n",
            " 178.97547226 180.19205607 182.29191895 182.68794368 185.57789095\n",
            " 186.94109196 175.39904592 185.55515287 186.58604568 183.10025324\n",
            " 183.91593088 176.90655882 183.36857064 181.4648163  181.58598899\n",
            " 184.29427692 185.95892618 175.35216988 171.11073201 181.43435956\n",
            " 181.40383683 184.92692586 181.43435956 176.99040572 177.23899284\n",
            " 182.51958027 185.13946324 180.74708972 180.19205607 183.3951234\n",
            " 182.96415327 183.99241742 180.81097299 178.68199836 186.96170094\n",
            " 179.75235389 185.09250907 178.42009529 178.8661348  177.52357297\n",
            " 178.45780947 172.78394512 169.71094774 186.37293666 178.902675\n",
            " 182.00206845 176.73735273 184.58980323 169.64069205 181.85487549\n",
            " 185.20960232 169.78085477 178.22999474 185.41794817 178.93912065\n",
            " 174.58012804 171.60941197 182.08965155 179.57951445 178.38227987\n",
            " 182.74362058 187.10512569 177.3208898  183.94147257 180.19205607\n",
            " 186.04710322 182.34918016 176.0840871  169.98851806 184.26936756\n",
            " 176.39271811 184.99812856 186.24350631 181.52553294 186.56487928\n",
            " 184.92692586 178.53293625 177.64379763 185.13946324 186.98227982\n",
            " 176.0840871  178.93912065 181.58598899 177.48326897 183.68394734\n",
            " 183.52714159 177.11524764 177.28000084 185.32573025 171.48638728\n",
            " 186.83759232 172.32581571 186.77512553 185.2793939  183.15432715\n",
            " 184.87925665 171.54803393 179.71795525 186.32992522 180.05821908] [181.34755843 183.26826614 170.59436331 183.87489423 184.01748932\n",
            " 180.84887848 183.48041228 183.99720676 176.92285529 175.06105229\n",
            " 178.11213772 179.26569543 175.84278784 179.57467814 167.49047562\n",
            " 180.06610836 183.64785838 182.29488928 172.04165601 182.81207979\n",
            " 181.02543166 174.59406243 170.90624847 176.44530998 180.89954845\n",
            " 179.82253622 180.95003681 181.37203496 176.72017211 177.15569096\n",
            " 177.02311363 182.74568735 183.45934086 177.08955827 179.9583737\n",
            " 179.68537606 171.36149864 183.26826614 174.23337092 181.82918612\n",
            " 182.65667449 178.8038102  176.85561775 166.4717496  180.43682021\n",
            " 166.75069412 181.44521038 174.07005039 168.98115909 181.05047387\n",
            " 180.19962819 183.03115478 182.52209158 168.06812439 174.8683511\n",
            " 176.34083802 182.81207979 174.79052638 180.56688796 173.90481404\n",
            " 169.03997436 182.6789805  172.82570793 170.11319266 178.56706114\n",
            " 173.52578927 175.0992782  173.52578927 182.27196619 177.41715995\n",
            " 180.17302528 183.52246078 178.44717754 168.74341104 168.19333621\n",
            " 178.17364977 176.37574817 184.05796704 178.05035588 170.64682608\n",
            " 181.17502143 181.82918612 182.70125123 175.62382637 178.77443326\n",
            " 172.59959974 175.3264805  176.68610622 182.34062386 171.21137746\n",
            " 175.66055713 182.13363868 178.833126   178.92070911 171.94647837\n",
            " 175.28886703 179.03664588 170.80305213 168.50158128 179.82253622\n",
            " 175.80652981 177.02311363 179.12297651 179.51900124 182.4089485\n",
            " 183.77214952 172.23010347 182.38621042 183.41710324 179.9313108\n",
            " 180.74698843 173.73761638 180.19962819 178.29587386 178.41704654\n",
            " 181.12533448 182.78998373 172.18322743 167.94178957 178.26541712\n",
            " 178.23489438 181.75798342 178.26541712 173.82146328 174.07005039\n",
            " 179.35063783 181.97052079 177.57814728 177.02311363 180.22618096\n",
            " 179.79521082 180.82347498 177.64203055 175.51305591 183.7927585\n",
            " 176.58341145 181.92356662 175.25115285 175.69719236 174.35463053\n",
            " 175.28886703 169.61500267 166.5420053  183.20399422 175.73373256\n",
            " 178.833126   173.56841029 181.42086079 166.4717496  178.68593305\n",
            " 182.04065988 166.61191233 175.06105229 182.24900573 175.77017821\n",
            " 171.41118559 168.44046952 178.92070911 176.41057201 175.21333742\n",
            " 179.57467814 183.93618325 174.15194735 180.77253012 177.02311363\n",
            " 182.87816078 179.18023772 172.91514466 166.81957561 181.10042512\n",
            " 173.22377567 181.82918612 183.07456387 178.3565905  183.39593684\n",
            " 181.75798342 175.36399381 174.47485519 181.97052079 183.81333738\n",
            " 172.91514466 175.77017821 178.41704654 174.31432653 180.51500489\n",
            " 180.35819915 173.9463052  174.11105839 182.1567878  168.31744483\n",
            " 183.66864988 169.15687327 183.60618309 182.11045145 179.98538471\n",
            " 181.71031421 168.37909149 176.54901281 183.16098277 176.88927663] [180.94895877 182.86966647 170.19576365 183.47629457 183.61888966\n",
            " 180.45027882 183.08181262 183.5986071  176.52425562 174.66245263\n",
            " 177.71353806 178.86709577 175.44418818 179.17607848 167.09187596\n",
            " 179.66750869 183.24925872 181.89628962 171.64305635 182.41348013\n",
            " 180.626832   174.19546276 170.50764881 176.04671031 180.50094879\n",
            " 179.42393656 180.55143715 180.9734353  176.32157245 176.7570913\n",
            " 176.62451397 182.34708769 183.0607412  176.69095861 179.55977404\n",
            " 179.28677639 170.96289898 182.86966647 173.83477126 181.43058646\n",
            " 182.25807483 178.40521054 176.45701809 166.07314994 180.03822055\n",
            " 166.35209446 181.04661072 173.67145073 168.58255943 180.65187421\n",
            " 179.80102853 182.63255512 182.12349192 167.66952473 174.46975144\n",
            " 175.94223836 182.41348013 174.39192672 180.1682883  173.50621438\n",
            " 168.6413747  182.28038084 172.42710827 169.714593   178.16846148\n",
            " 173.12718961 174.70067854 173.12718961 181.87336652 177.01856029\n",
            " 179.77442562 183.12386112 178.04857788 168.34481138 167.79473655\n",
            " 177.77505011 175.97714851 183.65936738 177.65175622 170.24822642\n",
            " 180.77642177 181.43058646 182.30265157 175.22522671 178.3758336\n",
            " 172.20100008 174.92788084 176.28750656 181.94202419 170.8127778\n",
            " 175.26195747 181.73503902 178.43452634 178.52210945 171.54787871\n",
            " 174.89026737 178.63804621 170.40445247 168.10298162 179.42393656\n",
            " 175.40793015 176.62451397 178.72437685 179.12040158 182.01034884\n",
            " 183.37354986 171.83150381 181.98761076 183.01850358 179.53271113\n",
            " 180.34838877 173.33901672 179.80102853 177.8972742  178.01844688\n",
            " 180.72673482 182.39138407 171.78462777 167.54318991 177.86681746\n",
            " 177.83629472 181.35938376 177.86681746 173.42286362 173.67145073\n",
            " 178.95203817 181.57192113 177.17954762 176.62451397 179.8275813\n",
            " 179.39661116 180.42487532 177.24343089 175.11445625 183.39415884\n",
            " 176.18481179 181.52496696 174.85255319 175.2985927  173.95603087\n",
            " 174.89026737 169.21640301 166.14340564 182.80539456 175.33513289\n",
            " 178.43452634 173.16981063 181.02226113 166.07314994 178.28733339\n",
            " 181.64206022 166.21331267 174.66245263 181.85040607 175.37157855\n",
            " 171.01258593 168.04186986 178.52210945 176.01197235 174.81473776\n",
            " 179.17607848 183.53758359 173.75334769 180.37393046 176.62451397\n",
            " 182.47956112 178.78163805 172.516545   166.42097595 180.70182546\n",
            " 172.82517601 181.43058646 182.6759642  177.95799083 182.99733718\n",
            " 181.35938376 174.96539415 174.07625553 181.57192113 183.41473772\n",
            " 172.516545   175.37157855 178.01844688 173.91572687 180.11640523\n",
            " 179.95959949 173.54770554 173.71245873 181.75818814 167.91884517\n",
            " 183.27005022 168.75827361 183.20758343 181.71185179 179.58678505\n",
            " 181.31171455 167.98049183 176.15041315 182.76238311 176.49067697]\n"
          ],
          "name": "stdout"
        }
      ]
    },
    {
      "cell_type": "code",
      "metadata": {
        "colab": {
          "base_uri": "https://localhost:8080/",
          "height": 0
        },
        "id": "NWtlC7PdfuF5",
        "outputId": "6cfbdef8-5ed8-4f31-b163-b0e3d9e84600"
      },
      "source": [
        "plt.figure()\r\n",
        "plt.plot(d,LpUrban)\r\n",
        "plt.plot(d,LpOpen)\r\n",
        "plt.plot(d,LpSuburban)\r\n",
        "plt.xlabel('Jarak (m)')\r\n",
        "plt.ylabel('Path Loss (dB)')\r\n",
        "plt.show()"
      ],
      "execution_count": 28,
      "outputs": [
        {
          "output_type": "display_data",
          "data": {
            "image/png": "[encoded data removed]",
            "text/plain": [
              "<Figure size 432x288 with 1 Axes>"
            ]
          },
          "metadata": {
            "tags": [],
            "needs_background": "light"
          }
        }
      ]
    },
    {
      "cell_type": "code",
      "metadata": {
        "id": "t1MXFWVkf43Z"
      },
      "source": [
        "d_sort=d[np.argsort(d)]\r\n",
        "Urban_sort1=LpUrban[np.argsort(d)]\r\n",
        "Open_sort2=LpOpen[np.argsort(d)]\r\n",
        "Suburban_sort3=LpSuburban[np.argsort(d)]"
      ],
      "execution_count": 29,
      "outputs": []
    },
    {
      "cell_type": "code",
      "metadata": {
        "colab": {
          "base_uri": "https://localhost:8080/",
          "height": 0
        },
        "id": "WnJ4fSEuf99L",
        "outputId": "a5706dea-e459-45db-9369-4f71c385aeb2"
      },
      "source": [
        "plt.figure()\r\n",
        "plt.title('FREKUENSI 1800MHz (URBAN, OPEN, SUBURBAN)')\r\n",
        "plt.plot(d_sort,Urban_sort1, label='Urban')\r\n",
        "plt.plot(d_sort,Open_sort2, label=\"Open\")\r\n",
        "plt.plot(d_sort,Suburban_sort3, label=\"Suburban\")\r\n",
        "plt.legend()\r\n",
        "plt.xlabel('Jarak (m)')\r\n",
        "plt.ylabel('Path Loss (dB)')\r\n",
        "plt.show()"
      ],
      "execution_count": 30,
      "outputs": [
        {
          "output_type": "display_data",
          "data": {
            "image/png": "[encoded data removed]",
            "text/plain": [
              "<Figure size 432x288 with 1 Axes>"
            ]
          },
          "metadata": {
            "tags": [],
            "needs_background": "light"
          }
        }
      ]
    },
    {
      "cell_type": "markdown",
      "metadata": {
        "id": "6TrGZpCYQbZl"
      },
      "source": [
        "# **Grafik Model Urban pada Frekuensi 700MHz, 900MHz, dan 1800MHz**"
      ]
    },
    {
      "cell_type": "code",
      "metadata": {
        "id": "EJUGiqITQfx5"
      },
      "source": [
        "def cos(frek,tipe,ht,hr,d):\n",
        "    if frek in range(150,1501):\n",
        "        Ca=69.55\n",
        "        Cb=26.16\n",
        "    elif frek in range(1501,2001):\n",
        "        Ca=46.3\n",
        "        Cb=33.9\n",
        "    \n",
        "    if tipe=='urban' :\n",
        "        Cm=0\n",
        "    elif tipe=='suburban' :\n",
        "        Cm= -2*((np.log10((frek/28)**2))-5.4)\n",
        "    elif tipe=='open' :\n",
        "        Cm= -4.78*(np.log10(frek))+18.33*(np.log10(frek))-40.94\n",
        "    else :\n",
        "        Cm='tipe salah'\n",
        "    \n",
        "    ahr = (1.1*np.log10(frek)-0.7)*hr-(1.56*np.log10(frek)-1.8)\n",
        "    Lp = Ca+(Cb*np.log10(frek))-(13.83*np.log(ht))-ahr+((44.9-6.55*np.log10(ht))*np.log10(d))-Cm\n",
        "    \n",
        "    return Lp"
      ],
      "execution_count": 31,
      "outputs": []
    },
    {
      "cell_type": "code",
      "metadata": {
        "id": "53d-Ye-LQlXh"
      },
      "source": [
        "f1=700 #MHz\n",
        "f2=900 #MHz\n",
        "f3=1800 #MHz\n",
        "loc='urban'\n",
        "tower=80 #m\n",
        "user=1.5 #m\n",
        "dmin=200 #m\n",
        "dmax=700 #m\n",
        "N=200 #titik\n",
        "d=np.random.randint(dmin,dmax,N)"
      ],
      "execution_count": 32,
      "outputs": []
    },
    {
      "cell_type": "code",
      "metadata": {
        "colab": {
          "base_uri": "https://localhost:8080/"
        },
        "id": "qhdPl7JETiqL",
        "outputId": "1b5ccc24-2ef3-421a-dcb6-67c6ddcd65f3"
      },
      "source": [
        "print(d)"
      ],
      "execution_count": 33,
      "outputs": [
        {
          "output_type": "stream",
          "text": [
            "[554 403 413 307 515 443 448 263 514 275 381 413 335 583 452 639 310 235\n",
            " 614 592 244 517 468 391 492 271 675 527 537 284 288 326 455 403 581 357\n",
            " 643 279 415 489 479 528 689 235 519 589 217 284 626 466 668 266 407 307\n",
            " 476 535 225 599 558 524 213 279 406 480 415 670 226 374 418 683 506 523\n",
            " 266 555 507 593 309 643 481 606 664 540 218 610 686 509 486 449 479 482\n",
            " 521 534 617 240 288 672 301 663 574 295 281 567 658 447 309 483 254 362\n",
            " 504 686 682 405 656 238 434 255 604 469 502 582 290 201 536 416 540 467\n",
            " 212 698 648 536 655 437 333 604 333 620 691 574 604 638 640 636 680 508\n",
            " 418 294 388 531 255 281 221 356 623 268 694 466 591 467 392 304 406 340\n",
            " 549 216 541 678 597 544 537 542 614 338 439 680 645 408 456 625 309 348\n",
            " 472 640 550 503 417 395 609 688 429 607 532 538 316 279 416 283 402 307\n",
            " 608 458]\n"
          ],
          "name": "stdout"
        }
      ]
    },
    {
      "cell_type": "code",
      "metadata": {
        "id": "IgW6t5oSRMBQ"
      },
      "source": [
        "LpUrban700=cos(f1,loc,tower,user,d)\r\n",
        "LpUrban900=cos(f2,loc,tower,user,d)\r\n",
        "LpUrban1800=cos(f3,loc,tower,user,d)"
      ],
      "execution_count": 34,
      "outputs": []
    },
    {
      "cell_type": "code",
      "metadata": {
        "id": "rIFJSsdSTn-6",
        "colab": {
          "base_uri": "https://localhost:8080/"
        },
        "outputId": "7531bf9b-d0f7-4616-e528-fa5c74d26242"
      },
      "source": [
        "print(LpUrban700, LpUrban900, LpUrban1800)"
      ],
      "execution_count": 35,
      "outputs": [
        {
          "output_type": "stream",
          "text": [
            "[171.35335993 166.87072297 167.21599117 163.0380153  170.32509577\n",
            " 168.20374882 168.36184517 160.85896287 170.29771727 161.48744946\n",
            " 166.07996122 167.21599117 164.26750133 172.07207498 168.487057\n",
            " 173.3640262  163.17499762 159.27329599 172.80185113 172.28786837\n",
            " 159.80269499 170.37969366 168.97706249 166.44491007 169.68152116\n",
            " 161.28105401 174.13606804 170.64955321 170.91433991 161.94107054\n",
            " 162.13808407 163.8838887  168.58024083 166.87072297 172.02366862\n",
            " 165.16345999 173.45192813 161.69086436 167.28404076 169.59536653\n",
            " 169.30431821 170.67625698 174.4252385  159.27329599 170.43408075\n",
            " 172.21630393 158.15078963 161.94107054 173.0744965  168.9167359\n",
            " 173.98922581 161.01873288 167.00984743 163.0380153  169.215818\n",
            " 170.86177926 158.66075437 172.45345157 171.4547002  170.56913679\n",
            " 157.88871253 161.69086436 166.97519492 169.33369515 167.28404076\n",
            " 174.03133717 158.72322116 165.81875198 167.3855027  174.30203447\n",
            " 170.07675215 170.54222897 161.01873288 171.37876343 170.10456309\n",
            " 172.31164261 163.12948469 173.45192813 169.36301095 172.61711095\n",
            " 173.90462353 170.99281497 158.21555405 172.7097839  174.36377118\n",
            " 170.16002079 169.50868172 168.39325263 169.30431821 169.39226587\n",
            " 170.48825865 170.8354252  172.87050881 159.56985931 162.13808407\n",
            " 174.073323   162.75998842 173.88339333 171.85292425 162.47636332\n",
            " 161.79148078 171.68008481 173.77675968 168.33036754 163.12948469\n",
            " 169.42146015 160.36848339 165.35937744 170.02096499 174.36377118\n",
            " 174.28139529 166.94045696 173.73387917 159.45198216 167.91462547\n",
            " 160.42383214 172.57054483 169.00712918 169.96495602 172.04789259\n",
            " 162.23556707 157.07189025 170.8880841  167.31794267 170.99281497\n",
            " 168.94693149 157.82242424 174.60804732 173.56103973 170.8880841\n",
            " 173.71238986 168.01166078 164.18315235 172.57054483 164.18315235\n",
            " 172.93883345 174.4660682  171.85292425 172.57054483 173.34196474\n",
            " 173.38605316 173.2977379  174.24002598 170.13231923 167.3855027\n",
            " 162.42853225 166.33641476 170.75606591 160.42383214 161.79148078\n",
            " 158.40807966 165.12394737 173.0068283  161.12424826 174.52709171\n",
            " 168.9167359  172.26405393 168.94693149 166.48089026 162.89968779\n",
            " 166.97519492 164.47619015 171.22565064 158.08572606 171.01887647\n",
            " 174.19853483 172.40634037 171.09677291 170.91433991 171.04488984\n",
            " 172.80185113 164.39308526 168.07598161 174.24002598 173.49567424\n",
            " 167.0444149  168.61116562 173.05197653 163.12948469 164.80379183\n",
            " 169.09694609 173.38605316 171.2512853  169.99298835 167.35176319\n",
            " 166.58828268 172.68667275 174.40477918 167.75139957 172.6403364\n",
            " 170.78256872 170.94054687 163.44502961 161.69086436 167.31794267\n",
            " 161.89138359 166.83572609 163.0380153  172.66352363 168.67281227] [174.19875625 169.71611929 170.06138749 165.88341161 173.17049209\n",
            " 171.04914514 171.20724149 163.70435919 173.14311358 164.33284578\n",
            " 168.92535754 170.06138749 167.11289765 174.9174713  171.33245332\n",
            " 176.20942252 166.02039393 162.11869231 175.64724745 175.13326469\n",
            " 162.6480913  173.22508998 171.82245881 169.29030638 172.52691748\n",
            " 164.12645032 176.98146436 173.49494953 173.75973622 164.78646686\n",
            " 164.98348039 166.72928502 171.42563715 169.71611929 174.86906493\n",
            " 168.00885631 176.29732444 164.53626068 170.12943708 172.44076285\n",
            " 172.14971453 173.5216533  177.27063481 162.11869231 173.27947706\n",
            " 175.06170024 160.99618595 164.78646686 175.91989282 171.76213222\n",
            " 176.83462213 163.8641292  169.85524375 165.88341161 172.06121432\n",
            " 173.70717558 161.50615069 175.29884789 174.30009652 173.41453311\n",
            " 160.73410885 164.53626068 169.82059124 172.17909147 170.12943708\n",
            " 176.87673349 161.56861748 168.6641483  170.23089901 177.14743079\n",
            " 172.92214846 173.38762529 163.8641292  174.22415975 172.94995941\n",
            " 175.15703893 165.97488101 176.29732444 172.20840727 175.46250726\n",
            " 176.75001985 173.83821129 161.06095037 175.55518021 177.2091675\n",
            " 173.00541711 172.35407804 171.23864895 172.14971453 172.23766219\n",
            " 173.33365497 173.68082152 175.71590512 162.41525563 164.98348039\n",
            " 176.91871932 165.60538474 176.72878965 174.69832057 165.32175964\n",
            " 164.63687709 174.52548113 176.622156   171.17576385 165.97488101\n",
            " 172.26685647 163.21387971 168.20477376 172.86636131 177.2091675\n",
            " 177.12679161 169.78585328 176.57927549 162.29737848 170.76002179\n",
            " 163.26922845 175.41594115 171.8525255  172.81035234 174.89328891\n",
            " 165.08096339 159.91728657 173.73348041 170.16333899 173.83821129\n",
            " 171.79232781 160.66782055 177.45344364 176.40643605 173.73348041\n",
            " 176.55778618 170.8570571  167.02854867 175.41594115 167.02854867\n",
            " 175.78422977 177.31146452 174.69832057 175.41594115 176.18736106\n",
            " 176.23144948 176.14313422 177.0854223  172.97771555 170.23089901\n",
            " 165.27392857 169.18181108 173.60146223 163.26922845 164.63687709\n",
            " 161.25347598 167.96934369 175.85222462 163.96964458 177.37248802\n",
            " 171.76213222 175.10945025 171.79232781 169.32628658 165.74508411\n",
            " 169.82059124 167.32158646 174.07104696 160.93112238 173.86427279\n",
            " 177.04393115 175.25173668 173.94216923 173.75973622 173.89028616\n",
            " 175.64724745 167.23848158 170.92137793 177.0854223  176.34107056\n",
            " 169.88981122 171.45656194 175.89737285 165.97488101 167.64918815\n",
            " 171.94234241 176.23144948 174.09668161 172.83838466 170.19715951\n",
            " 169.433679   175.53206907 177.2501755  170.59679589 175.48573272\n",
            " 173.62796503 173.78594319 166.29042593 164.53626068 170.16333899\n",
            " 164.73677991 169.68112241 165.88341161 175.50891995 171.51820859] [183.99241742 179.50978046 179.85504867 175.67707279 182.96415327\n",
            " 180.84280631 181.00090267 173.49802037 182.93677476 174.12650695\n",
            " 178.71901871 179.85504867 176.90655882 184.71113247 181.12611449\n",
            " 186.0030837  175.81405511 171.91235348 185.44090863 184.92692586\n",
            " 172.44175248 183.01875116 181.61611999 179.08396756 182.32057865\n",
            " 173.9201115  186.77512553 183.2886107  183.5533974  174.58012804\n",
            " 174.77714157 176.5229462  181.21929832 179.50978046 184.66272611\n",
            " 177.80251748 186.09098562 174.32992186 179.92309826 182.23442403\n",
            " 181.94337571 183.31531448 187.06429599 171.91235348 183.07313824\n",
            " 184.85536142 170.78984712 174.58012804 185.713554   181.5557934\n",
            " 186.62828331 173.65779037 179.64890493 175.67707279 181.85487549\n",
            " 183.50083675 171.29981187 185.09250907 184.0937577  183.20819429\n",
            " 170.52777003 174.32992186 179.61425242 181.97275265 179.92309826\n",
            " 186.67039466 171.36227866 178.45780947 180.02456019 186.94109196\n",
            " 182.71580964 183.18128647 173.65779037 184.01782092 182.74362058\n",
            " 184.95070011 175.76854219 186.09098562 182.00206845 185.25616844\n",
            " 186.54368103 183.63187246 170.85461155 185.34884139 187.00282867\n",
            " 182.79907828 182.14773921 181.03231012 181.94337571 182.03132336\n",
            " 183.12731614 183.4744827  185.5095663  172.20891681 174.77714157\n",
            " 186.7123805  175.39904592 186.52245082 184.49198175 175.11542082\n",
            " 174.43053827 184.31914231 186.41581717 180.96942503 175.76854219\n",
            " 182.06051765 173.00754089 177.99843493 182.66002249 187.00282867\n",
            " 186.92045278 179.57951445 186.37293666 172.09103965 180.55368296\n",
            " 173.06288963 185.20960232 181.64618668 182.60401352 184.68695008\n",
            " 174.87462457 169.71094774 183.52714159 179.95700017 183.63187246\n",
            " 181.58598899 170.46148173 187.24710481 186.20009722 183.52714159\n",
            " 186.35144736 180.65071828 176.82220984 185.20960232 176.82220984\n",
            " 185.57789095 187.10512569 184.49198175 185.20960232 185.98102224\n",
            " 186.02511066 185.9367954  186.87908348 182.77137672 180.02456019\n",
            " 175.06758974 178.97547226 183.3951234  173.06288963 174.43053827\n",
            " 171.04713715 177.76300487 185.64588579 173.76330575 187.1661492\n",
            " 181.5557934  184.90311142 181.58598899 179.11994775 175.53874529\n",
            " 179.61425242 177.11524764 183.86470814 170.72478356 183.65793397\n",
            " 186.83759232 185.04539786 183.73583041 183.5533974  183.68394734\n",
            " 185.44090863 177.03214275 180.71503911 186.87908348 186.13473173\n",
            " 179.6834724  181.25022312 185.69103403 175.76854219 177.44284933\n",
            " 181.73600358 186.02511066 183.89034279 182.63204584 179.99082068\n",
            " 179.22734017 185.32573025 187.04383667 180.39045706 185.2793939\n",
            " 183.42162621 183.57960436 176.0840871  174.32992186 179.95700017\n",
            " 174.53044108 179.47478358 175.67707279 185.30258113 181.31186977]\n"
          ],
          "name": "stdout"
        }
      ]
    },
    {
      "cell_type": "code",
      "metadata": {
        "colab": {
          "base_uri": "https://localhost:8080/",
          "height": 0
        },
        "id": "o4qflQDdRXSo",
        "outputId": "69f3dd7c-4185-4a02-b6ca-65e47848cfaf"
      },
      "source": [
        "plt.figure()\n",
        "plt.plot(d,LpUrban700)\n",
        "plt.plot(d,LpUrban900)\n",
        "plt.plot(d,LpUrban1800)\n",
        "plt.xlabel('Jarak (m)')\n",
        "plt.ylabel('Path Loss (dB)')\n",
        "plt.show()"
      ],
      "execution_count": 36,
      "outputs": [
        {
          "output_type": "display_data",
          "data": {
            "image/png": "[encoded data removed]",
            "text/plain": [
              "<Figure size 432x288 with 1 Axes>"
            ]
          },
          "metadata": {
            "tags": [],
            "needs_background": "light"
          }
        }
      ]
    },
    {
      "cell_type": "code",
      "metadata": {
        "id": "MbvWh9qIRkKJ"
      },
      "source": [
        "d_sort=d[np.argsort(d)]\n",
        "Urban_sort1=LpUrban700[np.argsort(d)]\n",
        "Urban_sort2=LpUrban900[np.argsort(d)]\n",
        "Urban_sort3=LpUrban1800[np.argsort(d)]"
      ],
      "execution_count": 37,
      "outputs": []
    },
    {
      "cell_type": "code",
      "metadata": {
        "colab": {
          "base_uri": "https://localhost:8080/",
          "height": 0
        },
        "id": "79YaOB0uSBn6",
        "outputId": "d8511e1d-eb01-42de-9917-a50513c90297"
      },
      "source": [
        "plt.figure()\n",
        "plt.plot(d_sort,Urban_sort1, label='700MHz')\n",
        "plt.plot(d_sort,Urban_sort2, label='900MHz')\n",
        "plt.plot(d_sort,Urban_sort3, label='1800MHz')\n",
        "plt.legend()\n",
        "plt.title('MODEL URBAN (700MHz, 900MHz, 1800MHz)')\n",
        "plt.xlabel('Jarak (m)')\n",
        "plt.ylabel('Path Loss (dB)')\n",
        "plt.show()"
      ],
      "execution_count": 38,
      "outputs": [
        {
          "output_type": "display_data",
          "data": {
            "image/png": "[encoded data removed]",
            "text/plain": [
              "<Figure size 432x288 with 1 Axes>"
            ]
          },
          "metadata": {
            "tags": [],
            "needs_background": "light"
          }
        }
      ]
    },
    {
      "cell_type": "code",
      "metadata": {
        "id": "Bslo_hoFSFZD"
      },
      "source": [
        ""
      ],
      "execution_count": 38,
      "outputs": []
    }
  ]
}